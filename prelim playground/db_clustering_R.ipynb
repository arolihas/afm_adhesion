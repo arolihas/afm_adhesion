{
 "cells": [
  {
   "cell_type": "code",
   "execution_count": 3,
   "metadata": {
    "scrolled": true
   },
   "outputs": [
    {
     "name": "stderr",
     "output_type": "stream",
     "text": [
      "Installing package into ‘/home/sahil/R/x86_64-pc-linux-gnu-library/3.2’\n",
      "(as ‘lib’ is unspecified)\n",
      "\n"
     ]
    },
    {
     "name": "stdout",
     "output_type": "stream",
     "text": [
      "\n",
      "The downloaded source packages are in\n",
      "\t‘/tmp/RtmpIDI6Ow/downloaded_packages’\n"
     ]
    },
    {
     "name": "stderr",
     "output_type": "stream",
     "text": [
      "Loading required package: usethis\n",
      "\n",
      "Installing package into ‘/home/sahil/R/x86_64-pc-linux-gnu-library/3.2’\n",
      "(as ‘lib’ is unspecified)\n",
      "\n"
     ]
    },
    {
     "name": "stdout",
     "output_type": "stream",
     "text": [
      "\n",
      "The downloaded source packages are in\n",
      "\t‘/tmp/RtmpIDI6Ow/downloaded_packages’\n"
     ]
    }
   ],
   "source": [
    "install.packages(\"devtools\")\n",
    "library(\"devtools\")\n",
    "install.packages('dbscan')"
   ]
  },
  {
   "cell_type": "code",
   "execution_count": 1,
   "metadata": {},
   "outputs": [
    {
     "data": {
      "text/html": [
       "<table>\n",
       "<caption>A data.frame: 6 × 2</caption>\n",
       "<thead>\n",
       "\t<tr><th></th><th scope=col>zSensr</th><th scope=col>defl</th></tr>\n",
       "\t<tr><th></th><th scope=col>&lt;dbl&gt;</th><th scope=col>&lt;dbl&gt;</th></tr>\n",
       "</thead>\n",
       "<tbody>\n",
       "\t<tr><th scope=row>5</th><td>4.117468e-06</td><td>-5.859997e-08</td></tr>\n",
       "\t<tr><th scope=row>10</th><td>4.118793e-06</td><td>-5.755458e-08</td></tr>\n",
       "\t<tr><th scope=row>15</th><td>4.119742e-06</td><td>-5.800371e-08</td></tr>\n",
       "\t<tr><th scope=row>20</th><td>4.120152e-06</td><td>-5.933619e-08</td></tr>\n",
       "\t<tr><th scope=row>25</th><td>4.120126e-06</td><td>-5.900129e-08</td></tr>\n",
       "\t<tr><th scope=row>30</th><td>4.120157e-06</td><td>-5.773375e-08</td></tr>\n",
       "</tbody>\n",
       "</table>\n"
      ],
      "text/latex": [
       "A data.frame: 6 × 2\n",
       "\\begin{tabular}{r|ll}\n",
       "  & zSensr & defl\\\\\n",
       "  & <dbl> & <dbl>\\\\\n",
       "\\hline\n",
       "\t5 & 4.117468e-06 & -5.859997e-08\\\\\n",
       "\t10 & 4.118793e-06 & -5.755458e-08\\\\\n",
       "\t15 & 4.119742e-06 & -5.800371e-08\\\\\n",
       "\t20 & 4.120152e-06 & -5.933619e-08\\\\\n",
       "\t25 & 4.120126e-06 & -5.900129e-08\\\\\n",
       "\t30 & 4.120157e-06 & -5.773375e-08\\\\\n",
       "\\end{tabular}\n"
      ],
      "text/markdown": [
       "\n",
       "A data.frame: 6 × 2\n",
       "\n",
       "| <!--/--> | zSensr &lt;dbl&gt; | defl &lt;dbl&gt; |\n",
       "|---|---|---|\n",
       "| 5 | 4.117468e-06 | -5.859997e-08 |\n",
       "| 10 | 4.118793e-06 | -5.755458e-08 |\n",
       "| 15 | 4.119742e-06 | -5.800371e-08 |\n",
       "| 20 | 4.120152e-06 | -5.933619e-08 |\n",
       "| 25 | 4.120126e-06 | -5.900129e-08 |\n",
       "| 30 | 4.120157e-06 | -5.773375e-08 |\n",
       "\n"
      ],
      "text/plain": [
       "   zSensr       defl         \n",
       "5  4.117468e-06 -5.859997e-08\n",
       "10 4.118793e-06 -5.755458e-08\n",
       "15 4.119742e-06 -5.800371e-08\n",
       "20 4.120152e-06 -5.933619e-08\n",
       "25 4.120126e-06 -5.900129e-08\n",
       "30 4.120157e-06 -5.773375e-08"
      ]
     },
     "metadata": {},
     "output_type": "display_data"
    }
   ],
   "source": [
    "apr1 <- read.csv('a200pr20nE8S20005_Apr_0.118.csv', header=TRUE)\n",
    "apr1$No <- NULL\n",
    "apr1 <- apr1[c(rep(FALSE,4),TRUE), ]\n",
    "head(apr1)"
   ]
  },
  {
   "cell_type": "code",
   "execution_count": null,
   "metadata": {},
   "outputs": [],
   "source": [
    "dbscan::kNNdistplot(apr1, k = 1000)"
   ]
  },
  {
   "cell_type": "code",
   "execution_count": 3,
   "metadata": {},
   "outputs": [
    {
     "data": {
      "text/html": [
       "<table>\n",
       "<thead><tr><th scope=col>zSensr</th><th scope=col>defl</th></tr></thead>\n",
       "<tbody>\n",
       "\t<tr><td>6.292341e-06 </td><td>-7.476122e-10</td></tr>\n",
       "\t<tr><td>6.292362e-06 </td><td>-7.285609e-10</td></tr>\n",
       "\t<tr><td>6.292424e-06 </td><td>-8.281155e-10</td></tr>\n",
       "\t<tr><td>6.292523e-06 </td><td>-7.412765e-10</td></tr>\n",
       "\t<tr><td>6.292656e-06 </td><td>-5.704343e-10</td></tr>\n",
       "\t<tr><td>6.292816e-06 </td><td>-3.777493e-10</td></tr>\n",
       "</tbody>\n",
       "</table>\n"
      ],
      "text/latex": [
       "\\begin{tabular}{r|ll}\n",
       " zSensr & defl\\\\\n",
       "\\hline\n",
       "\t 6.292341e-06  & -7.476122e-10\\\\\n",
       "\t 6.292362e-06  & -7.285609e-10\\\\\n",
       "\t 6.292424e-06  & -8.281155e-10\\\\\n",
       "\t 6.292523e-06  & -7.412765e-10\\\\\n",
       "\t 6.292656e-06  & -5.704343e-10\\\\\n",
       "\t 6.292816e-06  & -3.777493e-10\\\\\n",
       "\\end{tabular}\n"
      ],
      "text/markdown": [
       "\n",
       "zSensr | defl | \n",
       "|---|---|---|---|---|---|\n",
       "| 6.292341e-06  | -7.476122e-10 | \n",
       "| 6.292362e-06  | -7.285609e-10 | \n",
       "| 6.292424e-06  | -8.281155e-10 | \n",
       "| 6.292523e-06  | -7.412765e-10 | \n",
       "| 6.292656e-06  | -5.704343e-10 | \n",
       "| 6.292816e-06  | -3.777493e-10 | \n",
       "\n",
       "\n"
      ],
      "text/plain": [
       "  zSensr       defl         \n",
       "1 6.292341e-06 -7.476122e-10\n",
       "2 6.292362e-06 -7.285609e-10\n",
       "3 6.292424e-06 -8.281155e-10\n",
       "4 6.292523e-06 -7.412765e-10\n",
       "5 6.292656e-06 -5.704343e-10\n",
       "6 6.292816e-06 -3.777493e-10"
      ]
     },
     "metadata": {},
     "output_type": "display_data"
    }
   ],
   "source": [
    "apr2 <- read.csv('a200pr20nE1S20003_Apr_0.118.csv', header=TRUE)\n",
    "apr2$No <- NULL\n",
    "head(apr2)"
   ]
  },
  {
   "cell_type": "code",
   "execution_count": null,
   "metadata": {},
   "outputs": [],
   "source": [
    "dbscan::kNNdistplot(apr1, k = 100000)"
   ]
  },
  {
   "cell_type": "code",
   "execution_count": 4,
   "metadata": {},
   "outputs": [
    {
     "data": {
      "text/html": [
       "<table>\n",
       "<thead><tr><th scope=col>defl</th><th scope=col>zSensr</th></tr></thead>\n",
       "<tbody>\n",
       "\t<tr><td>-4.14849e-10</td><td>-1.61276e-08</td></tr>\n",
       "\t<tr><td>-4.31683e-10</td><td>-1.61276e-08</td></tr>\n",
       "\t<tr><td>-4.21076e-10</td><td>-1.61276e-08</td></tr>\n",
       "\t<tr><td>-3.39915e-10</td><td>-1.61276e-08</td></tr>\n",
       "\t<tr><td>-1.75916e-10</td><td>-1.61276e-08</td></tr>\n",
       "\t<tr><td> 1.25016e-10</td><td>-1.61276e-08</td></tr>\n",
       "</tbody>\n",
       "</table>\n"
      ],
      "text/latex": [
       "\\begin{tabular}{r|ll}\n",
       " defl & zSensr\\\\\n",
       "\\hline\n",
       "\t -4.14849e-10 & -1.61276e-08\\\\\n",
       "\t -4.31683e-10 & -1.61276e-08\\\\\n",
       "\t -4.21076e-10 & -1.61276e-08\\\\\n",
       "\t -3.39915e-10 & -1.61276e-08\\\\\n",
       "\t -1.75916e-10 & -1.61276e-08\\\\\n",
       "\t  1.25016e-10 & -1.61276e-08\\\\\n",
       "\\end{tabular}\n"
      ],
      "text/markdown": [
       "\n",
       "defl | zSensr | \n",
       "|---|---|---|---|---|---|\n",
       "| -4.14849e-10 | -1.61276e-08 | \n",
       "| -4.31683e-10 | -1.61276e-08 | \n",
       "| -4.21076e-10 | -1.61276e-08 | \n",
       "| -3.39915e-10 | -1.61276e-08 | \n",
       "| -1.75916e-10 | -1.61276e-08 | \n",
       "|  1.25016e-10 | -1.61276e-08 | \n",
       "\n",
       "\n"
      ],
      "text/plain": [
       "  defl         zSensr      \n",
       "1 -4.14849e-10 -1.61276e-08\n",
       "2 -4.31683e-10 -1.61276e-08\n",
       "3 -4.21076e-10 -1.61276e-08\n",
       "4 -3.39915e-10 -1.61276e-08\n",
       "5 -1.75916e-10 -1.61276e-08\n",
       "6  1.25016e-10 -1.61276e-08"
      ]
     },
     "metadata": {},
     "output_type": "display_data"
    }
   ],
   "source": [
    "apr3 <- read.csv('iD4_S1_0VacBD0004_Apr_0.089.csv', header=TRUE)\n",
    "apr3$No <- NULL\n",
    "head(apr3)"
   ]
  },
  {
   "cell_type": "code",
   "execution_count": null,
   "metadata": {},
   "outputs": [],
   "source": [
    "dbscan::kNNdistplot(apr1, k = 100000)"
   ]
  }
 ],
 "metadata": {
  "kernelspec": {
   "display_name": "R",
   "language": "R",
   "name": "ir"
  },
  "language_info": {
   "codemirror_mode": "r",
   "file_extension": ".r",
   "mimetype": "text/x-r-source",
   "name": "R",
   "pygments_lexer": "r",
   "version": "3.2.3"
  }
 },
 "nbformat": 4,
 "nbformat_minor": 4
}
