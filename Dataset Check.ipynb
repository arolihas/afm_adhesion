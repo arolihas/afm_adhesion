{
 "cells": [
  {
   "cell_type": "code",
   "execution_count": 2,
   "metadata": {},
   "outputs": [],
   "source": [
    "import pandas as pd"
   ]
  },
  {
   "cell_type": "code",
   "execution_count": 3,
   "metadata": {},
   "outputs": [],
   "source": [
    "results = pd.read_csv('Apr_resrlt.csv')"
   ]
  },
  {
   "cell_type": "code",
   "execution_count": 9,
   "metadata": {
    "scrolled": true
   },
   "outputs": [
    {
     "data": {
      "text/plain": [
       "Unnamed: 0                                    1\n",
       "filename       defl_k0.5_V1_DFS_apr_Ptest_1.csv\n",
       "AprVel                                    1e-09\n",
       "AprLoadRate                               5e-10\n",
       "F13Adhesion                         5.22823e-10\n",
       "TheAdhesion                        -6.51874e-10\n",
       "AprAdhesion                            7.03e-10\n",
       "Snap_Coord                               678759\n",
       "k                                           0.5\n",
       "Temperature                                 300\n",
       "Trial                                         1\n",
       "Method                           DoubleGaussian\n",
       "Name: 0, dtype: object"
      ]
     },
     "execution_count": 9,
     "metadata": {},
     "output_type": "execute_result"
    }
   ],
   "source": [
    "results.iloc[0]"
   ]
  },
  {
   "cell_type": "code",
   "execution_count": 31,
   "metadata": {},
   "outputs": [],
   "source": [
    "import matplotlib.pyplot as plt\n",
    "import matplotlib.patches as patches\n",
    "import matplotlib.gridspec as gridspec\n",
    "import scipy.fftpack as fftp\n",
    "import numpy as np\n",
    "import pandas\n",
    "\n",
    "from numba.decorators import jit\n",
    "from warnings import filterwarnings\n",
    "from os import listdir, getcwd\n",
    "from os.path import isfile, join\n",
    "from decimal import Decimal\n",
    "\n",
    "filterwarnings('ignore')\n",
    "\n",
    "@jit\n",
    "def thresholding_algo2(y, lag, threshold, influence):\n",
    "    signals = np.zeros(len(y))\n",
    "    filteredY = np.array(y)\n",
    "    avgFilter = np.zeros(len(y))\n",
    "    stdFilter = np.zeros(len(y))\n",
    "    avgFilter[lag - 1] = np.mean(y[0:lag])\n",
    "    stdFilter[lag - 1] = np.std(y[0:lag])\n",
    "    for i in range(lag, len(y) - 1):\n",
    "        if abs(y[i] - avgFilter[i-1]) > threshold * stdFilter [i-1]:\n",
    "            if y[i] > avgFilter[i-1]:\n",
    "                signals[i] = 1\n",
    "            else:\n",
    "                signals[i] = -1\n",
    "\n",
    "            filteredY[i] = influence * y[i] + (1 - influence) * filteredY[i-1]\n",
    "            avgFilter[i] = np.mean(filteredY[(i-lag):i])\n",
    "            stdFilter[i] = np.std(filteredY[(i-lag):i])\n",
    "        else:\n",
    "            signals[i] = 0\n",
    "            filteredY[i] = y[i]\n",
    "            avgFilter[i] = np.mean(filteredY[(i-lag):i])\n",
    "            stdFilter[i] = np.std(filteredY[(i-lag):i])\n",
    "\n",
    "    return dict(signals = np.asarray(signals),\n",
    "                avgFilter = np.asarray(avgFilter),\n",
    "                stdFilter = np.asarray(stdFilter))\n",
    "\n",
    "def peak_detection(force_curve, resonant_frequency):\n",
    "    \n",
    "    #Band pass filter at resonant frequency\n",
    "    yf = fftp.fft(force_curve)\n",
    "    bp = yf[:]\n",
    "    for i in range(len(bp)):\n",
    "        if i >= resonant_frequency:\n",
    "            bp[i] = 0\n",
    "\n",
    "    #Invert to smoothed curve, resampled and shifted\n",
    "    ifft = fftp.ifft(yf)\n",
    "    s = int(len(ifft) / 10)\n",
    "    resample = ifft[::10000]\n",
    "    shift = int(len(resample) / 10)\n",
    "    \n",
    "    #Sliding window algorithm detects peaks on  gradient of curve\n",
    "    grad = np.gradient(resample[shift:-shift])\n",
    "    sig_dict = thresholding_algo2(grad, int(len(grad)/5), 5, 0)\n",
    "    \n",
    "    #Retrieve the indices of where the cantilever bends\n",
    "    indices = []\n",
    "    bound = -1\n",
    "    for i, v in enumerate(sig_dict['signals']):\n",
    "        if v == -1 and i > bound:\n",
    "            signal = [i + shift]\n",
    "            while v == -1 and i <= len(sig_dict['signals']):\n",
    "                i += 1\n",
    "                bound = i\n",
    "                v = sig_dict['signals'][i]\n",
    "                if (v > -1):\n",
    "                    continue\n",
    "                signal.append(i + shift)\n",
    "            \n",
    "            indices.append(signal)\n",
    "            \n",
    "    #Force interactions at each deflection\n",
    "    markers_on = []\n",
    "    interactions = []\n",
    "    for i, signal in enumerate(indices):\n",
    "        prev = 0 if i == 0 else indices[i - 1][-1] * 10000\n",
    "        pre_sig = signal[0] * 10000\n",
    "\n",
    "        pre_contact_average = np.real(np.mean(ifft[prev:pre_sig]))\n",
    "        contact_force = force_curve[signal[-1] * 10000]\n",
    "        force_interaction = abs(contact_force - pre_contact_average)\n",
    "        interactions.append(force_interaction)\n",
    "        \n",
    "        points = [signal[0] - 1, signal[-1]]\n",
    "        markers_on.append(points)\n",
    "    \n",
    "    #Remove anomalous windows, all windows should be similar in size so those that are significantly\n",
    "    #smaller than the main window\n",
    "    benchmark = max(interactions) / 3 \n",
    "    passing = []\n",
    "    passing_mark = []\n",
    "    for i, val in enumerate(interactions):\n",
    "        if val >= benchmark:\n",
    "            passing.append(val)\n",
    "            passing_mark.append(markers_on[i])\n",
    "    interactions = passing\n",
    "    markers_on = passing_mark\n",
    "    return max(interactions)\n",
    "    \n",
    "    \n",
    "#     #Plot rectangular window on original curve\n",
    "#     fig, ax = plt.subplots()\n",
    "#     ax.plot(force_curve)\n",
    "#     textstr = r'F=%.2E' % (Decimal(interactions[0]), )\n",
    "\n",
    "#     # these are matplotlib.patch.Patch properties\n",
    "#     props = dict(boxstyle='round', facecolor='wheat', alpha=0.5)\n",
    "\n",
    "#     # place a text box in upper left in axes coords\n",
    "#     ax.text(0.05, 0.1, textstr, transform=ax.transAxes, fontsize=14,\n",
    "#         verticalalignment='top', bbox=props)\n",
    "\n",
    "#     #ax.plot(ifft, color='cyan')\n",
    "#     for signal in markers_on:\n",
    "#         ax.add_patch(\n",
    "#             patches.Rectangle((signal[0]*10000,force_curve[signal[0]*10000]),\n",
    "#                               (signal[1] - signal[0])*10000,\n",
    "#                               force_curve[signal[1]*10000] - force_curve[signal[0]*10000],\n",
    "#                               linewidth=1,\n",
    "#                               edgecolor='r',\n",
    "#                               facecolor='none',\n",
    "#                               zorder=4\n",
    "#                             )\n",
    "#         )\n"
   ]
  },
  {
   "cell_type": "markdown",
   "metadata": {},
   "source": [
    "**Linear Correlation with F13**"
   ]
  },
  {
   "cell_type": "code",
   "execution_count": 62,
   "metadata": {},
   "outputs": [],
   "source": [
    "def files(path):\n",
    "    for file in listdir(path):\n",
    "        if isfile(join(path, file)) and file.endswith('.csv') and file.startswith('defl'):\n",
    "            yield file\n",
    "automated = []\n",
    "manual = []\n",
    "for file in files(\".\"):\n",
    "    if not results[results['filename'] == file].empty:\n",
    "        defl = pd.read_csv(file).iloc[:,0] * 0.5\n",
    "        automated.append((peak_detection(defl, 40)))\n",
    "        manual.append(results[results['filename'] == file]['F13Adhesion'].values[0])"
   ]
  },
  {
   "cell_type": "code",
   "execution_count": 46,
   "metadata": {},
   "outputs": [
    {
     "data": {
      "text/plain": [
       "0.5733003501024896"
      ]
     },
     "execution_count": 46,
     "metadata": {},
     "output_type": "execute_result"
    }
   ],
   "source": [
    "from scipy import stats\n",
    "slope, intercept, r_value, p_value, std_err = stats.linregress(automated, manual)\n",
    "r_value"
   ]
  },
  {
   "cell_type": "code",
   "execution_count": 63,
   "metadata": {},
   "outputs": [
    {
     "data": {
      "text/plain": [
       "array([[1.        , 0.57330035],\n",
       "       [0.57330035, 1.        ]])"
      ]
     },
     "execution_count": 63,
     "metadata": {},
     "output_type": "execute_result"
    }
   ],
   "source": [
    "np.corrcoef(automated, manual)"
   ]
  },
  {
   "cell_type": "code",
   "execution_count": 61,
   "metadata": {},
   "outputs": [
    {
     "data": {
      "text/plain": [
       "[<matplotlib.lines.Line2D at 0x7ff3700fd6d8>]"
      ]
     },
     "execution_count": 61,
     "metadata": {},
     "output_type": "execute_result"
    },
    {
     "data": {
      "image/png": "[encoded data removed]",
      "text/plain": [
       "<Figure size 432x288 with 1 Axes>"
      ]
     },
     "metadata": {
      "needs_background": "light"
     },
     "output_type": "display_data"
    }
   ],
   "source": [
    "# plt.scatter(automated, manual)\n",
    "model = LinearRegression()\n",
    "model.fit(np.array(automated).reshape(-1,1), np.array(manual).reshape(-1,1))\n",
    "y_new = model.predict(np.array(automated).reshape(-1,1))\n",
    "plt.plot(automated, y_new)\n",
    "plt.plot(automated, manual, '.')"
   ]
  },
  {
   "cell_type": "markdown",
   "metadata": {},
   "source": [
    "**Linear Correlation with AprAdhesion**"
   ]
  },
  {
   "cell_type": "code",
   "execution_count": 50,
   "metadata": {},
   "outputs": [],
   "source": [
    "def files(path):\n",
    "    for file in listdir(path):\n",
    "        if isfile(join(path, file)) and file.endswith('.csv') and file.startswith('defl'):\n",
    "            yield file\n",
    "automated = []\n",
    "manual = []\n",
    "for file in files(\".\"):\n",
    "    if not results[results['filename'] == file].empty:\n",
    "        defl = pd.read_csv(file).iloc[:,0] * 0.5\n",
    "        automated.append((peak_detection(defl, 40)))\n",
    "        manual.append(results[results['filename'] == file]['AprAdhesion'].values[0])"
   ]
  },
  {
   "cell_type": "code",
   "execution_count": 51,
   "metadata": {},
   "outputs": [
    {
     "data": {
      "text/plain": [
       "0.48149211162094036"
      ]
     },
     "execution_count": 51,
     "metadata": {},
     "output_type": "execute_result"
    }
   ],
   "source": [
    "from scipy import stats\n",
    "slope, intercept, r_value, p_value, std_err = stats.linregress(automated, manual)\n",
    "r_value"
   ]
  },
  {
   "cell_type": "code",
   "execution_count": null,
   "metadata": {},
   "outputs": [],
   "source": [
    "np.corrcoef(automated, manual)"
   ]
  },
  {
   "cell_type": "code",
   "execution_count": 60,
   "metadata": {},
   "outputs": [
    {
     "data": {
      "text/plain": [
       "[<matplotlib.lines.Line2D at 0x7ff384074dd8>]"
      ]
     },
     "execution_count": 60,
     "metadata": {},
     "output_type": "execute_result"
    },
    {
     "data": {
      "image/png": "[encoded data removed]",
      "text/plain": [
       "<Figure size 432x288 with 1 Axes>"
      ]
     },
     "metadata": {
      "needs_background": "light"
     },
     "output_type": "display_data"
    }
   ],
   "source": [
    "# plt.scatter(automated, manual)\n",
    "from sklearn.linear_model import LinearRegression\n",
    "model = LinearRegression()\n",
    "model.fit(np.array(automated).reshape(-1,1), np.array(manual).reshape(-1,1))\n",
    "y_new = model.predict(np.array(automated).reshape(-1,1))\n",
    "plt.plot(automated, y_new)\n",
    "plt.plot(automated, manual, '.')"
   ]
  },
  {
   "cell_type": "markdown",
   "metadata": {},
   "source": [
    "**Clustering to create classes**"
   ]
  },
  {
   "cell_type": "code",
   "execution_count": null,
   "metadata": {},
   "outputs": [],
   "source": [
    "from sklearn.cluster import KMeans\n",
    "from sklearn.preprocessing import StandardScaler "
   ]
  },
  {
   "cell_type": "code",
   "execution_count": null,
   "metadata": {},
   "outputs": [],
   "source": [
    "for file in files(\".\"):\n",
    "    if not results[results['filename'] == file].empty:\n",
    "        defl = pd.read_csv(file).iloc[:,0] * 0.5"
   ]
  }
 ],
 "metadata": {
  "kernelspec": {
   "display_name": "Python 3",
   "language": "python",
   "name": "python3"
  },
  "language_info": {
   "codemirror_mode": {
    "name": "ipython",
    "version": 3
   },
   "file_extension": ".py",
   "mimetype": "text/x-python",
   "name": "python",
   "nbconvert_exporter": "python",
   "pygments_lexer": "ipython3",
   "version": "3.7.3"
  }
 },
 "nbformat": 4,
 "nbformat_minor": 2
}
